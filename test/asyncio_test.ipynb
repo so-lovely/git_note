{
 "cells": [
  {
   "cell_type": "code",
   "execution_count": null,
   "metadata": {},
   "outputs": [],
   "source": [
    "async def A():\n",
    "    print('A started')\n",
    "    await asyncio.sleep(1)\n",
    "\n",
    "async def B():\n",
    "    print('B started')\n",
    "    await asyncio.sleep(2)\n",
    "\n",
    "async def C():\n",
    "    print('C started')\n",
    "    await asyncio.sleep(3)\n",
    "\n",
    "await asyncio.gather(A(),B(),C())\n"
   ]
  }
 ],
 "metadata": {
  "language_info": {
   "name": "python"
  }
 },
 "nbformat": 4,
 "nbformat_minor": 2
}
